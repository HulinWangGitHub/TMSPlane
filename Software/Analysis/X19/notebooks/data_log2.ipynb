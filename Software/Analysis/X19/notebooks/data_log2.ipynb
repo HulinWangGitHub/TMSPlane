{
 "cells": [
  {
   "cell_type": "markdown",
   "metadata": {},
   "source": [
    "Run Log\n",
    "=============="
   ]
  },
  {
   "cell_type": "markdown",
   "metadata": {},
   "source": [
    "# Physics Data (D)\n",
    "\n",
    "Template:\n",
    "\n",
    "| Parameter | Value | Memo |\n",
    "| --- | --- | --- |\n",
    "| Source |  |  |"
   ]
  },
  {
   "cell_type": "markdown",
   "metadata": {},
   "source": [
    "## Mar07D1\n",
    "\n",
    "| Parameter | Value | Memo |\n",
    "| --- | --- | --- |\n",
    "| Source | $\\alpha$ source | With collimater |\n",
    "| Pluse | 10 Hz, 0.04 mV |\n",
    "\n",
    "### Mar07D1a\n",
    "\n",
    "### Mar07D1b\n",
    "Tried to tune channel 2 but didn't work.\n"
   ]
  },
  {
   "cell_type": "markdown",
   "metadata": {},
   "source": []
  },
  {
   "cell_type": "markdown",
   "metadata": {},
   "source": [
    "## Mar08D1a\n",
    "\n",
    "Change comparing with Mar07D1b: the VDIS parameter for channel 7 is changed to have longer tail.\n",
    "\n",
    "\n",
    "$\\alpha$ source data, with 10 Hz pulse injection. The pulse at the begining is 0.04 V, and changed later to have real time calibration.\n",
    "\n",
    "~~~text\n",
    "[dlzhang@90 ~]$ atq\n",
    "1\tFri Mar  8 15:44:00 2019\n",
    "2\tFri Mar  8 15:49:00 2019\n",
    "3\tFri Mar  8 16:19:00 2019\n",
    "4\tFri Mar  8 16:50:00 2019\n",
    "5\tFri Mar  8 17:21:00 2019\n",
    "6\tFri Mar  8 17:51:00 2019\n",
    "7\tFri Mar  8 18:22:00 2019\n",
    "~~~\n",
    "The commands are 1(test), 2(0.12 V), 3(0.32 V), 4(0.4 V), 5(0.08 V), 6(0.02 V), 7(0.04 V). The pulse is already set to 0.2 V at this time."
   ]
  },
  {
   "cell_type": "markdown",
   "metadata": {},
   "source": [
    "# Calibration data (C)"
   ]
  },
  {
   "cell_type": "markdown",
   "metadata": {},
   "source": [
    "# Test / Tune data (T)"
   ]
  },
  {
   "cell_type": "markdown",
   "metadata": {},
   "source": [
    "# Condition Table"
   ]
  },
  {
   "cell_type": "markdown",
   "metadata": {},
   "source": [
    "## Initial run\n",
    "The configration started on Feb 26th.\n",
    "- Only $\\alpha$ source, with a collimater (better to have a piture of it) place at the center of HV plate\n",
    "- Main HV -300 V\n",
    "- HV on the focusing plane -90 V\n",
    "- Gardring ??? 0.2 V in later runs (Mar07)\n",
    "- Carrier board ID:\n",
    "- Focusing plane: the largest one (dimensions needed), ~5 mm above the TMS chips"
   ]
  },
  {
   "cell_type": "code",
   "execution_count": null,
   "metadata": {},
   "outputs": [],
   "source": []
  }
 ],
 "metadata": {
  "kernelspec": {
   "display_name": "Python 3",
   "language": "python",
   "name": "python3"
  },
  "language_info": {
   "codemirror_mode": {
    "name": "ipython",
    "version": 3
   },
   "file_extension": ".py",
   "mimetype": "text/x-python",
   "name": "python",
   "nbconvert_exporter": "python",
   "pygments_lexer": "ipython3",
   "version": "3.6.6"
  }
 },
 "nbformat": 4,
 "nbformat_minor": 2
}
