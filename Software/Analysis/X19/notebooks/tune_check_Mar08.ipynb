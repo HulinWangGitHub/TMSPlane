{
 "cells": [
  {
   "cell_type": "code",
   "execution_count": 1,
   "metadata": {},
   "outputs": [
    {
     "name": "stdout",
     "output_type": "stream",
     "text": [
      "Welcome to JupyROOT 6.14/08\n"
     ]
    },
    {
     "data": {
      "text/html": [
       "<style>.container { width:100% !important; }</style>"
      ],
      "text/plain": [
       "<IPython.core.display.HTML object>"
      ]
     },
     "metadata": {},
     "output_type": "display_data"
    }
   ],
   "source": [
    "import sys\n",
    "#sys.path.append('/data/repos/TMSPlane2/Software/X11/scripts')\n",
    "sys.path.append('/home/dlzhang/work/repos/TMSPlane/Software/Control/src')\n",
    "\n",
    "from notebook_test import test, get_spectrum\n",
    "from rootHelper import getRDF\n",
    "import matplotlib.pyplot as plt\n",
    "import numpy as np\n",
    "from ROOT import gPad, gDirectory, gStyle, TCanvas, TGraph\n",
    "gStyle.SetPalette(55)\n",
    "\n",
    "dir1 = '/home/dlzhang/work/repos/TMSPlane/Software/Control/src/data/fpgaLin/'\n",
    "\n",
    "plt.rc('figure', figsize=(15, 6))\n",
    "\n",
    "from IPython.core.display import display, HTML\n",
    "display(HTML(\"<style>.container { width:100% !important; }</style>\"))\n",
    "\n",
    "import ROOT\n",
    "ROOT.enableJSVis()\n",
    "\n",
    "c = TCanvas()"
   ]
  },
  {
   "cell_type": "code",
   "execution_count": 2,
   "metadata": {},
   "outputs": [
    {
     "name": "stdout",
     "output_type": "stream",
     "text": [
      "Total entries: 11000\n",
      "======> EVENT:0\n",
      " tag             = -1\n",
      " T               = 1551917300\n",
      " adc             = 0.870562, \n",
      "                  0.870375, 0.8705, 0.870625, 0.870812, 0.870375, \n",
      "                  0.870438, 0.870313, 0.870562, 0.87025, 0.8705, \n",
      "                  0.870313, 0.8705, 0.8705, 0.870562, 0.87025, \n",
      "                  0.8705, 0.870313, 0.870125, 0.869875\n",
      " ret             = 0, \n",
      "                  0, 0, 0, 0, 0, \n",
      "                  0, 0, 0, 0, 0, \n",
      "                  0, 0, 0, 0, 0, \n",
      "                  0, 0, 0, 0\n",
      " par             = 1.03668, \n",
      "                  1.46431, 1.23395, 1.46308, 1.64471, 2.45798, \n",
      "                  1.03668, 1.46431, 1.23395, 1.46308, 1.64471, \n",
      "                  2.45798, 1.03668, 1.46431, 1.23395, 1.46308, \n",
      "                  1.64471, 2.45798, 1.14604, 1.50039\n",
      " val             = 0.0112012, \n",
      "                  0.00977083, 0.00937594, 0.00974251, 0.00979536, 0.0100307, \n",
      "                  0.00997216, 0.0100606, 0.0106687, 0.00907824, 0.00937065, \n",
      "                  0.00896571, 0.00863028, 0.00896214, 0.00863389, 0.00922818, \n",
      "                  0.000741417, 0.0004306, 0.000601364, 0.000482095\n"
     ]
    }
   ],
   "source": [
    "d1v4e, ch1v4e = getRDF(dir1+'Mar05Te_tt_valid4.root')\n",
    "#N = ch1v4e.GetEntries()\n",
    "#print(N)\n",
    "#ch1v4e.Show(0)"
   ]
  },
  {
   "cell_type": "code",
   "execution_count": 4,
   "metadata": {},
   "outputs": [
    {
     "name": "stdout",
     "output_type": "stream",
     "text": [
      "Total entries: 2333\n",
      "======> EVENT:0\n",
      " T               = 1551782376\n",
      " adc             = 0.878812, \n",
      "                  0.878875, 0.87925, 0.879188, 0.878812, 0.879562, \n",
      "                  0.879, 0.879188, 0.878563, 0.878438, 0.878187, \n",
      "                  0.878438, 0.878125, 0.878125, 0.878062, 0.878313, \n",
      "                  0.878, 0.878625, 0.878688, 0.878125\n",
      " ret             = -9.0369, \n",
      "                  -10.382, -1.63613, -8.70986, -10.3602, -9.86711, \n",
      "                  -6.42903, -8.43148, -0.154286, -12.0728, -7.21792, \n",
      "                  -0.966127, -10.255, -10.9917, -10.2655, -10.61, \n",
      "                  -9.99764, -9.72245, -12.7712, -27.3264\n",
      " par             = 0, \n",
      "                  0, 0, 0, 0, 0, \n",
      "                  0, 0, 0, 0, 0, \n",
      "                  0, 0, 0, 0, 0, \n",
      "                  0, 0, 0, 0\n"
     ]
    }
   ],
   "source": [
    "dv1e, ch1e = getRDF(dir1+'Mar05Te_tt_test.root')"
   ]
  },
  {
   "cell_type": "code",
   "execution_count": 5,
   "metadata": {},
   "outputs": [],
   "source": [
    "def getVar(ch,var,cut):\n",
    "    n = ch.Draw(var,cut,'goff')\n",
    "    v = ch.GetV1()\n",
    "    return np.array([v[i] for i in range(n)])\n",
    "\n",
    "def show_progress(ch):\n",
    "    for i in range(19):\n",
    "        v1 = getVar(ch,'ret[{0:d}]'.format(i),'')\n",
    "        plt.plot(v1, 'o', label='channel {0:d}'.format(i))\n",
    "        plt.legend()\n",
    "        plt.show()\n",
    "def check_par(ch, ich):\n",
    "    for i in range(6):\n",
    "        v1 = getVar(ch,'par[{0:d}][{1:d}]'.format(ich,i),'')\n",
    "        plt.plot(v1, 'o', label='channel {0:d}, par {0:d}'.format(ich, i))\n",
    "        plt.legend()\n",
    "        plt.show()\n",
    "xs = []\n",
    "def show_par(ch, ich, i, cut=''):\n",
    "    c = TCanvas(\"myCanvasName{0:d}\".format(i),\"The Canvas Title\",1000,500)\n",
    "    ch.Draw(\"par[{0:d}][{1:d}]:Entry$:ret[{0:d}]\".format(ich,i),cut,'colz')\n",
    "    c.Draw()\n",
    "    xs.append(c)\n",
    "\n",
    "def show_all_pars(ch,ich,cut=None):\n",
    "    ch.SetMarkerStyle(20)\n",
    "    if cut==None: cut = 'ret[{0:d}]<0'.format(ich)\n",
    "    for i in range(6): show_par(ch,ich,i,cut)\n",
    "\n",
    "def show_parCor(ch, ich, cut='',mStyle=1):\n",
    "    ch.SetMarkerStyle(mStyle)\n",
    "    c = TCanvas(\"parCor_{0:d}\".format(ich),\"The Canvas Title\",1000,500)\n",
    "    c.Divide(5,2)\n",
    "    ic = 1\n",
    "    for i in range(5):\n",
    "        for j in range(i):\n",
    "            c.cd(ic)\n",
    "            ch.Draw(\"par[{0:d}][{1:d}]:par[{0:d}][{2:d}]:ret[{0:d}]\".format(ich,i,j),cut,'colz')\n",
    "            ic += 1\n",
    "    c.Draw()\n",
    "    xs.append(c)"
   ]
  },
  {
   "cell_type": "code",
   "execution_count": null,
   "metadata": {},
   "outputs": [],
   "source": [
    "show_pro"
   ]
  }
 ],
 "metadata": {
  "kernelspec": {
   "display_name": "Python 3",
   "language": "python",
   "name": "python3"
  },
  "language_info": {
   "codemirror_mode": {
    "name": "ipython",
    "version": 3
   },
   "file_extension": ".py",
   "mimetype": "text/x-python",
   "name": "python",
   "nbconvert_exporter": "python",
   "pygments_lexer": "ipython3",
   "version": "3.6.6"
  }
 },
 "nbformat": 4,
 "nbformat_minor": 2
}
