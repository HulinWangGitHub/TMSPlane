{
 "cells": [
  {
   "cell_type": "code",
   "execution_count": 5,
   "metadata": {},
   "outputs": [
    {
     "ename": "SyntaxError",
     "evalue": "Missing parentheses in call to 'print'. Did you mean print(\"testing\")? (notebook_test.py, line 6)",
     "output_type": "error",
     "traceback": [
      "Traceback \u001b[0;36m(most recent call last)\u001b[0m:\n",
      "  File \u001b[1;32m\"/usr/local/lib/python3.6/site-packages/IPython/core/interactiveshell.py\"\u001b[0m, line \u001b[1;32m3291\u001b[0m, in \u001b[1;35mrun_code\u001b[0m\n    exec(code_obj, self.user_global_ns, self.user_ns)\n",
      "  File \u001b[1;32m\"<ipython-input-5-5673c5d83e2b>\"\u001b[0m, line \u001b[1;32m5\u001b[0m, in \u001b[1;35m<module>\u001b[0m\n    from notebook_test import test, get_spectrum\n",
      "\u001b[0;36m  File \u001b[0;32m\"/usr/lib64/python3.6/site-packages/ROOT.py\"\u001b[0;36m, line \u001b[0;32m461\u001b[0;36m, in \u001b[0;35m_importhook\u001b[0;36m\u001b[0m\n\u001b[0;31m    return _orig_ihook( name, *args, **kwds )\u001b[0m\n",
      "\u001b[0;36m  File \u001b[0;32m\"/home/dlzhang/work/repos/TMSPlane/Software/Control/src/notebook_test.py\"\u001b[0;36m, line \u001b[0;32m6\u001b[0m\n\u001b[0;31m    print \"testing\"\u001b[0m\n\u001b[0m                  ^\u001b[0m\n\u001b[0;31mSyntaxError\u001b[0m\u001b[0;31m:\u001b[0m Missing parentheses in call to 'print'. Did you mean print(\"testing\")?\n"
     ]
    }
   ],
   "source": [
    "import sys\n",
    "#sys.path.append('/data/repos/TMSPlane2/Software/X11/scripts')\n",
    "sys.path.append('/home/dlzhang/work/repos/TMSPlane/Software/Control/src')\n",
    "\n",
    "from notebook_test import test, get_spectrum\n",
    "from rootHelper import getRDF\n",
    "import matplotlib.pyplot as plt\n",
    "import numpy as np\n",
    "from ROOT import gPad, gDirectory, gStyle, TCanvas, TGraph\n",
    "gStyle.SetPalette(55)\n",
    "\n",
    "dir1 = '/home/dlzhang/work/repos/TMSPlane/Software/Control/src/data/fpgaLin/'\n",
    "\n",
    "plt.rc('figure', figsize=(15, 6))\n",
    "\n",
    "from IPython.core.display import display, HTML\n",
    "display(HTML(\"<style>.container { width:100% !important; }</style>\"))\n",
    "\n",
    "import ROOT\n",
    "ROOT.enableJSVis()\n",
    "\n",
    "c = TCanvas()"
   ]
  },
  {
   "cell_type": "code",
   "execution_count": 2,
   "metadata": {},
   "outputs": [],
   "source": [
    "import sys\n",
    "#sys.path.append('/data/repos/TMSPlane2/Software/X11/scripts')\n",
    "sys.path.append('/home/dlzhang/work/repos/TMSPlane/Software/Control/src')"
   ]
  },
  {
   "cell_type": "code",
   "execution_count": 3,
   "metadata": {},
   "outputs": [
    {
     "name": "stdout",
     "output_type": "stream",
     "text": [
      "Welcome to JupyROOT 6.14/08\n"
     ]
    }
   ],
   "source": [
    "from rootHelper import getRDF"
   ]
  },
  {
   "cell_type": "code",
   "execution_count": 6,
   "metadata": {},
   "outputs": [],
   "source": [
    "import matplotlib.pyplot as plt\n",
    "import numpy as np\n",
    "from ROOT import gPad, gDirectory, gStyle, TCanvas, TGraph\n",
    "gStyle.SetPalette(55)"
   ]
  },
  {
   "cell_type": "code",
   "execution_count": null,
   "metadata": {},
   "outputs": [],
   "source": []
  }
 ],
 "metadata": {
  "kernelspec": {
   "display_name": "Python 3",
   "language": "python",
   "name": "python3"
  },
  "language_info": {
   "codemirror_mode": {
    "name": "ipython",
    "version": 3
   },
   "file_extension": ".py",
   "mimetype": "text/x-python",
   "name": "python",
   "nbconvert_exporter": "python",
   "pygments_lexer": "ipython3",
   "version": "3.6.6"
  }
 },
 "nbformat": 4,
 "nbformat_minor": 2
}
