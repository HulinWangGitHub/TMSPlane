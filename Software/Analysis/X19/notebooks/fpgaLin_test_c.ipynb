{
 "cells": [
  {
   "cell_type": "markdown",
   "metadata": {},
   "source": [
    "# Compare C++ and python\n",
    "\n",
    "| Aspect | Python | C++  | Comments |\n",
    "| ---- | -----  | ---- | ---- |\n",
    "| - | - | better supported in rdataframe | -  |\n",
    "| - | - | Can not reuse the variables | can be matigated by enclose the temp variables inside a curl brace |\n",
    "| - | - | Need to always define a variable explicitly |-  |\n",
    "| - | clumzy for some function in C++ using array, pointer, or lambda function  | - |-  |\n",
    "| - | - | Can not halt the script and tune the plots | Jupyter notebook helps here |\n",
    "| - | - | - |"
   ]
  },
  {
   "cell_type": "code",
   "execution_count": 1,
   "metadata": {},
   "outputs": [],
   "source": [
    "TH1F h1;"
   ]
  },
  {
   "cell_type": "code",
   "execution_count": 2,
   "metadata": {},
   "outputs": [],
   "source": [
    "int test(){\n",
    "    gPad->GetPrimitive(\"abcde\");\n",
    "    return -1;\n",
    "}"
   ]
  },
  {
   "cell_type": "code",
   "execution_count": 3,
   "metadata": {},
   "outputs": [],
   "source": [
    "%jsroot on"
   ]
  },
  {
   "cell_type": "code",
   "execution_count": null,
   "metadata": {},
   "outputs": [],
   "source": []
  }
 ],
 "metadata": {
  "kernelspec": {
   "display_name": "ROOT C++ (Python 3.6)",
   "language": "c++",
   "name": "python36-jupyroot"
  },
  "language_info": {
   "codemirror_mode": "text/x-c++src",
   "file_extension": ".C",
   "mimetype": " text/x-c++src",
   "name": "c++"
  }
 },
 "nbformat": 4,
 "nbformat_minor": 2
}
